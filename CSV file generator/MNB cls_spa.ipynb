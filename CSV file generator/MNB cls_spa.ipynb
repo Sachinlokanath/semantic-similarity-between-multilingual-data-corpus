{
 "cells": [
  {
   "cell_type": "code",
   "execution_count": 7,
   "metadata": {},
   "outputs": [
    {
     "name": "stdout",
     "output_type": "stream",
     "text": [
      "(519,)\n",
      "(174,)\n",
      "(519,)\n",
      "(174,)\n",
      "MultinomialNB accuracy: 0.7586206896551724\n"
     ]
    }
   ],
   "source": [
    "import csv\n",
    "from collections import defaultdict\n",
    "from nltk.tokenize import word_tokenize, sent_tokenize\n",
    "import nltk, random\n",
    "from nltk.tokenize import PunktSentenceTokenizer\n",
    "from sklearn.feature_extraction.text import CountVectorizer\n",
    "from sklearn.metrics.pairwise import cosine_similarity\n",
    "from nltk.corpus import stopwords\n",
    "from nltk.classify.scikitlearn import SklearnClassifier\n",
    "from sklearn.linear_model import LogisticRegression\n",
    "from sklearn.feature_extraction.text import CountVectorizer\n",
    "import pandas as pd\n",
    "from sklearn.naive_bayes import MultinomialNB\n",
    "from sklearn.cross_validation import train_test_split\n",
    "vet = CountVectorizer()\n",
    "\n",
    "\n",
    "path1 = '/Users/kevalpaida/Documents/Text Mining/large data/totc_spa_data.csv'\n",
    "features1 = ['Sentences','Score']\n",
    "sms1 = pd.read_csv(path1)\n",
    "#print(sms1)\n",
    "X = sms1.Sentences\n",
    "Y = sms1.Score\n",
    "\n",
    "\n",
    "\n",
    "X_train, X_test, Y_train, Y_test = train_test_split(X, Y, random_state=1)\n",
    "print(X_train.shape)\n",
    "print(X_test.shape)\n",
    "print(Y_train.shape)\n",
    "print(Y_test.shape)\n",
    "\n",
    "vet.fit(X_train)\n",
    "X_train_dtm = vet.transform(X_train)\n",
    "#print(X_train_dtm)\n",
    "\n",
    "#print (\"Test set \\n\")\n",
    "X_test_dtm = vet.transform(X_test)\n",
    "#print (X_test_dtm)\n",
    "\n",
    "nb = MultinomialNB()\n",
    "nb.fit(X_train_dtm, Y_train)\n",
    "\n",
    "Y_pred_class = nb.predict(X_test_dtm)\n",
    "#print(Y_pred_class)\n",
    "from sklearn import metrics\n",
    "print(\"MultinomialNB accuracy:\",metrics.accuracy_score(Y_test, Y_pred_class))\n",
    "\n",
    "\n",
    "\n"
   ]
  },
  {
   "cell_type": "code",
   "execution_count": 8,
   "metadata": {},
   "outputs": [
    {
     "name": "stdout",
     "output_type": "stream",
     "text": [
      "0.8793103448275862\n"
     ]
    }
   ],
   "source": [
    "lr = LogisticRegression()\n",
    "lr = LogisticRegression(multi_class='multinomial', solver='newton-cg').fit(X_train_dtm, Y_train)\n",
    "Y_pred_class = lr.predict(X_test_dtm)\n",
    "from sklearn import metrics\n",
    "print(metrics.accuracy_score(Y_test, Y_pred_class))"
   ]
  },
  {
   "cell_type": "code",
   "execution_count": null,
   "metadata": {},
   "outputs": [],
   "source": []
  }
 ],
 "metadata": {
  "kernelspec": {
   "display_name": "Python 3",
   "language": "python",
   "name": "python3"
  },
  "language_info": {
   "codemirror_mode": {
    "name": "ipython",
    "version": 3
   },
   "file_extension": ".py",
   "mimetype": "text/x-python",
   "name": "python",
   "nbconvert_exporter": "python",
   "pygments_lexer": "ipython3",
   "version": "3.6.4"
  }
 },
 "nbformat": 4,
 "nbformat_minor": 2
}
